{
 "cells": [
  {
   "cell_type": "markdown",
   "metadata": {},
   "source": [
    "## Importing Matplotlib, Pandas, Numpy, Scipy and SKlearn"
   ]
  },
  {
   "cell_type": "code",
   "execution_count": 1,
   "metadata": {
    "collapsed": true
   },
   "outputs": [],
   "source": [
    "#Importing all relevant libraries for this assignment\n",
    "%matplotlib inline\n",
    "import matplotlib.pyplot as plt\n",
    "import numpy as np\n",
    "import pandas as pd\n",
    "from sklearn.linear_model import LinearRegression\n",
    "from sklearn.model_selection import train_test_split\n",
    "from sklearn import metrics\n",
    "from scipy import stats"
   ]
  },
  {
   "cell_type": "code",
   "execution_count": 2,
   "metadata": {},
   "outputs": [
    {
     "name": "stdout",
     "output_type": "stream",
     "text": [
      " Volume in drive C is OS_Install\n",
      " Volume Serial Number is 0A54-9510\n",
      "\n",
      " Directory of C:\\Users\\kdsing2\\eLynx Assignment\n",
      "\n",
      "20-Feb-18  21:20    <DIR>          .\n",
      "20-Feb-18  21:20    <DIR>          ..\n",
      "20-Feb-18  20:27    <DIR>          .ipynb_checkpoints\n",
      "19-Feb-18  21:21             8,893 cruise_ship_info.csv\n",
      "20-Feb-18  20:27           168,691 eLynx Coding Exercise - Keith Singleton -Copy1.ipynb\n",
      "20-Feb-18  21:20           152,382 eLynx Coding Exercise - Keith Singleton .ipynb\n",
      "               3 File(s)        329,966 bytes\n",
      "               3 Dir(s)  22,357,131,264 bytes free\n"
     ]
    }
   ],
   "source": [
    "#Linux command to obtain the data's filepath \n",
    "!dir"
   ]
  },
  {
   "cell_type": "code",
   "execution_count": 3,
   "metadata": {
    "collapsed": true
   },
   "outputs": [],
   "source": [
    "df1 = pd.read_csv('cruise_ship_info.csv')"
   ]
  },
  {
   "cell_type": "code",
   "execution_count": 4,
   "metadata": {},
   "outputs": [
    {
     "data": {
      "text/html": [
       "<div>\n",
       "<style>\n",
       "    .dataframe thead tr:only-child th {\n",
       "        text-align: right;\n",
       "    }\n",
       "\n",
       "    .dataframe thead th {\n",
       "        text-align: left;\n",
       "    }\n",
       "\n",
       "    .dataframe tbody tr th {\n",
       "        vertical-align: top;\n",
       "    }\n",
       "</style>\n",
       "<table border=\"1\" class=\"dataframe\">\n",
       "  <thead>\n",
       "    <tr style=\"text-align: right;\">\n",
       "      <th></th>\n",
       "      <th>Ship_name</th>\n",
       "      <th>Cruise_line</th>\n",
       "      <th>Age</th>\n",
       "      <th>Tonnage</th>\n",
       "      <th>passengers</th>\n",
       "      <th>length</th>\n",
       "      <th>cabins</th>\n",
       "      <th>passenger_density</th>\n",
       "      <th>crew</th>\n",
       "    </tr>\n",
       "  </thead>\n",
       "  <tbody>\n",
       "    <tr>\n",
       "      <th>0</th>\n",
       "      <td>Journey</td>\n",
       "      <td>Azamara</td>\n",
       "      <td>6</td>\n",
       "      <td>30.277</td>\n",
       "      <td>6.94</td>\n",
       "      <td>5.94</td>\n",
       "      <td>3.55</td>\n",
       "      <td>42.64</td>\n",
       "      <td>3.55</td>\n",
       "    </tr>\n",
       "    <tr>\n",
       "      <th>1</th>\n",
       "      <td>Quest</td>\n",
       "      <td>Azamara</td>\n",
       "      <td>6</td>\n",
       "      <td>30.277</td>\n",
       "      <td>6.94</td>\n",
       "      <td>5.94</td>\n",
       "      <td>3.55</td>\n",
       "      <td>42.64</td>\n",
       "      <td>3.55</td>\n",
       "    </tr>\n",
       "    <tr>\n",
       "      <th>2</th>\n",
       "      <td>Celebration</td>\n",
       "      <td>Carnival</td>\n",
       "      <td>26</td>\n",
       "      <td>47.262</td>\n",
       "      <td>14.86</td>\n",
       "      <td>7.22</td>\n",
       "      <td>7.43</td>\n",
       "      <td>31.80</td>\n",
       "      <td>6.70</td>\n",
       "    </tr>\n",
       "    <tr>\n",
       "      <th>3</th>\n",
       "      <td>Conquest</td>\n",
       "      <td>Carnival</td>\n",
       "      <td>11</td>\n",
       "      <td>110.000</td>\n",
       "      <td>29.74</td>\n",
       "      <td>9.53</td>\n",
       "      <td>14.88</td>\n",
       "      <td>36.99</td>\n",
       "      <td>19.10</td>\n",
       "    </tr>\n",
       "    <tr>\n",
       "      <th>4</th>\n",
       "      <td>Destiny</td>\n",
       "      <td>Carnival</td>\n",
       "      <td>17</td>\n",
       "      <td>101.353</td>\n",
       "      <td>26.42</td>\n",
       "      <td>8.92</td>\n",
       "      <td>13.21</td>\n",
       "      <td>38.36</td>\n",
       "      <td>10.00</td>\n",
       "    </tr>\n",
       "  </tbody>\n",
       "</table>\n",
       "</div>"
      ],
      "text/plain": [
       "     Ship_name Cruise_line  Age  Tonnage  passengers  length  cabins  \\\n",
       "0      Journey     Azamara    6   30.277        6.94    5.94    3.55   \n",
       "1        Quest     Azamara    6   30.277        6.94    5.94    3.55   \n",
       "2  Celebration    Carnival   26   47.262       14.86    7.22    7.43   \n",
       "3     Conquest    Carnival   11  110.000       29.74    9.53   14.88   \n",
       "4      Destiny    Carnival   17  101.353       26.42    8.92   13.21   \n",
       "\n",
       "   passenger_density   crew  \n",
       "0              42.64   3.55  \n",
       "1              42.64   3.55  \n",
       "2              31.80   6.70  \n",
       "3              36.99  19.10  \n",
       "4              38.36  10.00  "
      ]
     },
     "execution_count": 4,
     "metadata": {},
     "output_type": "execute_result"
    }
   ],
   "source": [
    "df1.head()"
   ]
  },
  {
   "cell_type": "code",
   "execution_count": 5,
   "metadata": {},
   "outputs": [
    {
     "data": {
      "text/plain": [
       "Spirit              4\n",
       "Legend              3\n",
       "Star                3\n",
       "Sea                 2\n",
       "Wind                2\n",
       "Crown               2\n",
       "Rhapsody            2\n",
       "Freedom             2\n",
       "Sun                 2\n",
       "Navigator           2\n",
       "Mariner             2\n",
       "Pride               2\n",
       "Jewel               2\n",
       "Majesty             2\n",
       "Voyager             2\n",
       "Dawn                2\n",
       "Ecstasy             1\n",
       "Westerdam           1\n",
       "Magic               1\n",
       "Ventura             1\n",
       "Amsterdam           1\n",
       "Saphire             1\n",
       "Ryndam              1\n",
       "Artemis             1\n",
       "Armonia             1\n",
       "Pisces              1\n",
       "Wonder              1\n",
       "Paradise            1\n",
       "Enchantment         1\n",
       "Serena              1\n",
       "                   ..\n",
       "Atlantica           1\n",
       "Infinity            1\n",
       "Regatta             1\n",
       "QueenMary2          1\n",
       "Liberty*            1\n",
       "Eurodam             1\n",
       "Allegra             1\n",
       "Century             1\n",
       "Xpedition           1\n",
       "Inspiration         1\n",
       "Holiday             1\n",
       "Classica            1\n",
       "Quest               1\n",
       "Destiny             1\n",
       "Valor               1\n",
       "Elation             1\n",
       "Virgo               1\n",
       "ExplorerII          1\n",
       "Emerald             1\n",
       "Conquest            1\n",
       "Magica              1\n",
       "Sovreign            1\n",
       "Serenity            1\n",
       "Galaxy              1\n",
       "Oceana              1\n",
       "Golden              1\n",
       "QueenElizabethII    1\n",
       "Fantasia            1\n",
       "Diamond             1\n",
       "Coral               1\n",
       "Name: Ship_name, Length: 138, dtype: int64"
      ]
     },
     "execution_count": 5,
     "metadata": {},
     "output_type": "execute_result"
    }
   ],
   "source": [
    "df1.Ship_name.value_counts()"
   ]
  },
  {
   "cell_type": "code",
   "execution_count": 6,
   "metadata": {},
   "outputs": [
    {
     "data": {
      "text/html": [
       "<div>\n",
       "<style>\n",
       "    .dataframe thead tr:only-child th {\n",
       "        text-align: right;\n",
       "    }\n",
       "\n",
       "    .dataframe thead th {\n",
       "        text-align: left;\n",
       "    }\n",
       "\n",
       "    .dataframe tbody tr th {\n",
       "        vertical-align: top;\n",
       "    }\n",
       "</style>\n",
       "<table border=\"1\" class=\"dataframe\">\n",
       "  <thead>\n",
       "    <tr style=\"text-align: right;\">\n",
       "      <th></th>\n",
       "      <th>Ship_name</th>\n",
       "      <th>Cruise_line</th>\n",
       "      <th>Age</th>\n",
       "      <th>Tonnage</th>\n",
       "      <th>passengers</th>\n",
       "      <th>length</th>\n",
       "      <th>cabins</th>\n",
       "      <th>passenger_density</th>\n",
       "      <th>crew</th>\n",
       "    </tr>\n",
       "  </thead>\n",
       "  <tbody>\n",
       "    <tr>\n",
       "      <th>0</th>\n",
       "      <td>Journey</td>\n",
       "      <td>Azamara</td>\n",
       "      <td>6</td>\n",
       "      <td>30.277</td>\n",
       "      <td>6.94</td>\n",
       "      <td>5.94</td>\n",
       "      <td>3.55</td>\n",
       "      <td>42.64</td>\n",
       "      <td>3.55</td>\n",
       "    </tr>\n",
       "    <tr>\n",
       "      <th>1</th>\n",
       "      <td>Quest</td>\n",
       "      <td>Azamara</td>\n",
       "      <td>6</td>\n",
       "      <td>30.277</td>\n",
       "      <td>6.94</td>\n",
       "      <td>5.94</td>\n",
       "      <td>3.55</td>\n",
       "      <td>42.64</td>\n",
       "      <td>3.55</td>\n",
       "    </tr>\n",
       "    <tr>\n",
       "      <th>2</th>\n",
       "      <td>Celebration</td>\n",
       "      <td>Carnival</td>\n",
       "      <td>26</td>\n",
       "      <td>47.262</td>\n",
       "      <td>14.86</td>\n",
       "      <td>7.22</td>\n",
       "      <td>7.43</td>\n",
       "      <td>31.80</td>\n",
       "      <td>6.70</td>\n",
       "    </tr>\n",
       "    <tr>\n",
       "      <th>3</th>\n",
       "      <td>Conquest</td>\n",
       "      <td>Carnival</td>\n",
       "      <td>11</td>\n",
       "      <td>110.000</td>\n",
       "      <td>29.74</td>\n",
       "      <td>9.53</td>\n",
       "      <td>14.88</td>\n",
       "      <td>36.99</td>\n",
       "      <td>19.10</td>\n",
       "    </tr>\n",
       "    <tr>\n",
       "      <th>4</th>\n",
       "      <td>Destiny</td>\n",
       "      <td>Carnival</td>\n",
       "      <td>17</td>\n",
       "      <td>101.353</td>\n",
       "      <td>26.42</td>\n",
       "      <td>8.92</td>\n",
       "      <td>13.21</td>\n",
       "      <td>38.36</td>\n",
       "      <td>10.00</td>\n",
       "    </tr>\n",
       "  </tbody>\n",
       "</table>\n",
       "</div>"
      ],
      "text/plain": [
       "     Ship_name Cruise_line  Age  Tonnage  passengers  length  cabins  \\\n",
       "0      Journey     Azamara    6   30.277        6.94    5.94    3.55   \n",
       "1        Quest     Azamara    6   30.277        6.94    5.94    3.55   \n",
       "2  Celebration    Carnival   26   47.262       14.86    7.22    7.43   \n",
       "3     Conquest    Carnival   11  110.000       29.74    9.53   14.88   \n",
       "4      Destiny    Carnival   17  101.353       26.42    8.92   13.21   \n",
       "\n",
       "   passenger_density   crew  \n",
       "0              42.64   3.55  \n",
       "1              42.64   3.55  \n",
       "2              31.80   6.70  \n",
       "3              36.99  19.10  \n",
       "4              38.36  10.00  "
      ]
     },
     "execution_count": 6,
     "metadata": {},
     "output_type": "execute_result"
    }
   ],
   "source": [
    "#looking at the first 5 indexed rows\n",
    "df1.head(5)"
   ]
  },
  {
   "cell_type": "code",
   "execution_count": 7,
   "metadata": {},
   "outputs": [
    {
     "data": {
      "text/plain": [
       "(158, 9)"
      ]
     },
     "execution_count": 7,
     "metadata": {},
     "output_type": "execute_result"
    }
   ],
   "source": [
    "#Looking at Shape of Data\n",
    "df1.shape"
   ]
  },
  {
   "cell_type": "code",
   "execution_count": 8,
   "metadata": {},
   "outputs": [
    {
     "data": {
      "text/plain": [
       "Ship_name             object\n",
       "Cruise_line           object\n",
       "Age                    int64\n",
       "Tonnage              float64\n",
       "passengers           float64\n",
       "length               float64\n",
       "cabins               float64\n",
       "passenger_density    float64\n",
       "crew                 float64\n",
       "dtype: object"
      ]
     },
     "execution_count": 8,
     "metadata": {},
     "output_type": "execute_result"
    }
   ],
   "source": [
    "#checking object types for each column\n",
    "df1.dtypes"
   ]
  },
  {
   "cell_type": "code",
   "execution_count": 9,
   "metadata": {},
   "outputs": [
    {
     "data": {
      "text/plain": [
       "Ship_name            0\n",
       "Cruise_line          0\n",
       "Age                  0\n",
       "Tonnage              0\n",
       "passengers           0\n",
       "length               0\n",
       "cabins               0\n",
       "passenger_density    0\n",
       "crew                 0\n",
       "dtype: int64"
      ]
     },
     "execution_count": 9,
     "metadata": {},
     "output_type": "execute_result"
    }
   ],
   "source": [
    "#checking for missing data\n",
    "df1.isnull().sum()"
   ]
  },
  {
   "cell_type": "markdown",
   "metadata": {},
   "source": [
    "## With no missing data & the columns displayed I will now proceed with Step 2\n",
    "## Calculate Statistics of the data (count, mean, std)"
   ]
  },
  {
   "cell_type": "code",
   "execution_count": 10,
   "metadata": {},
   "outputs": [
    {
     "data": {
      "text/html": [
       "<div>\n",
       "<style>\n",
       "    .dataframe thead tr:only-child th {\n",
       "        text-align: right;\n",
       "    }\n",
       "\n",
       "    .dataframe thead th {\n",
       "        text-align: left;\n",
       "    }\n",
       "\n",
       "    .dataframe tbody tr th {\n",
       "        vertical-align: top;\n",
       "    }\n",
       "</style>\n",
       "<table border=\"1\" class=\"dataframe\">\n",
       "  <thead>\n",
       "    <tr style=\"text-align: right;\">\n",
       "      <th></th>\n",
       "      <th>Age</th>\n",
       "      <th>Tonnage</th>\n",
       "      <th>passengers</th>\n",
       "      <th>length</th>\n",
       "      <th>cabins</th>\n",
       "      <th>passenger_density</th>\n",
       "      <th>crew</th>\n",
       "    </tr>\n",
       "  </thead>\n",
       "  <tbody>\n",
       "    <tr>\n",
       "      <th>count</th>\n",
       "      <td>158.000000</td>\n",
       "      <td>158.000000</td>\n",
       "      <td>158.000000</td>\n",
       "      <td>158.000000</td>\n",
       "      <td>158.000000</td>\n",
       "      <td>158.000000</td>\n",
       "      <td>158.000000</td>\n",
       "    </tr>\n",
       "    <tr>\n",
       "      <th>mean</th>\n",
       "      <td>15.689873</td>\n",
       "      <td>71.284671</td>\n",
       "      <td>18.457405</td>\n",
       "      <td>8.130633</td>\n",
       "      <td>8.830000</td>\n",
       "      <td>39.900949</td>\n",
       "      <td>7.794177</td>\n",
       "    </tr>\n",
       "    <tr>\n",
       "      <th>std</th>\n",
       "      <td>7.615691</td>\n",
       "      <td>37.229540</td>\n",
       "      <td>9.677095</td>\n",
       "      <td>1.793474</td>\n",
       "      <td>4.471417</td>\n",
       "      <td>8.639217</td>\n",
       "      <td>3.503487</td>\n",
       "    </tr>\n",
       "    <tr>\n",
       "      <th>min</th>\n",
       "      <td>4.000000</td>\n",
       "      <td>2.329000</td>\n",
       "      <td>0.660000</td>\n",
       "      <td>2.790000</td>\n",
       "      <td>0.330000</td>\n",
       "      <td>17.700000</td>\n",
       "      <td>0.590000</td>\n",
       "    </tr>\n",
       "    <tr>\n",
       "      <th>25%</th>\n",
       "      <td>10.000000</td>\n",
       "      <td>46.013000</td>\n",
       "      <td>12.535000</td>\n",
       "      <td>7.100000</td>\n",
       "      <td>6.132500</td>\n",
       "      <td>34.570000</td>\n",
       "      <td>5.480000</td>\n",
       "    </tr>\n",
       "    <tr>\n",
       "      <th>50%</th>\n",
       "      <td>14.000000</td>\n",
       "      <td>71.899000</td>\n",
       "      <td>19.500000</td>\n",
       "      <td>8.555000</td>\n",
       "      <td>9.570000</td>\n",
       "      <td>39.085000</td>\n",
       "      <td>8.150000</td>\n",
       "    </tr>\n",
       "    <tr>\n",
       "      <th>75%</th>\n",
       "      <td>20.000000</td>\n",
       "      <td>90.772500</td>\n",
       "      <td>24.845000</td>\n",
       "      <td>9.510000</td>\n",
       "      <td>10.885000</td>\n",
       "      <td>44.185000</td>\n",
       "      <td>9.990000</td>\n",
       "    </tr>\n",
       "    <tr>\n",
       "      <th>max</th>\n",
       "      <td>48.000000</td>\n",
       "      <td>220.000000</td>\n",
       "      <td>54.000000</td>\n",
       "      <td>11.820000</td>\n",
       "      <td>27.000000</td>\n",
       "      <td>71.430000</td>\n",
       "      <td>21.000000</td>\n",
       "    </tr>\n",
       "  </tbody>\n",
       "</table>\n",
       "</div>"
      ],
      "text/plain": [
       "              Age     Tonnage  passengers      length      cabins  \\\n",
       "count  158.000000  158.000000  158.000000  158.000000  158.000000   \n",
       "mean    15.689873   71.284671   18.457405    8.130633    8.830000   \n",
       "std      7.615691   37.229540    9.677095    1.793474    4.471417   \n",
       "min      4.000000    2.329000    0.660000    2.790000    0.330000   \n",
       "25%     10.000000   46.013000   12.535000    7.100000    6.132500   \n",
       "50%     14.000000   71.899000   19.500000    8.555000    9.570000   \n",
       "75%     20.000000   90.772500   24.845000    9.510000   10.885000   \n",
       "max     48.000000  220.000000   54.000000   11.820000   27.000000   \n",
       "\n",
       "       passenger_density        crew  \n",
       "count         158.000000  158.000000  \n",
       "mean           39.900949    7.794177  \n",
       "std             8.639217    3.503487  \n",
       "min            17.700000    0.590000  \n",
       "25%            34.570000    5.480000  \n",
       "50%            39.085000    8.150000  \n",
       "75%            44.185000    9.990000  \n",
       "max            71.430000   21.000000  "
      ]
     },
     "execution_count": 10,
     "metadata": {},
     "output_type": "execute_result"
    }
   ],
   "source": [
    "df1.describe()"
   ]
  },
  {
   "cell_type": "markdown",
   "metadata": {},
   "source": [
    "Observing the count, mean, std of the variables Age, Tonnage, passengers, length, cabins, passenger_density, and crew\n"
   ]
  },
  {
   "cell_type": "code",
   "execution_count": 11,
   "metadata": {},
   "outputs": [
    {
     "data": {
      "text/plain": [
       "Ship_name            158\n",
       "Cruise_line          158\n",
       "Age                  158\n",
       "Tonnage              158\n",
       "passengers           158\n",
       "length               158\n",
       "cabins               158\n",
       "passenger_density    158\n",
       "crew                 158\n",
       "dtype: int64"
      ]
     },
     "execution_count": 11,
     "metadata": {},
     "output_type": "execute_result"
    }
   ],
   "source": [
    "df1.count()         # Get the count of each column"
   ]
  },
  {
   "cell_type": "code",
   "execution_count": 12,
   "metadata": {},
   "outputs": [
    {
     "data": {
      "text/plain": [
       "Age                  15.689873\n",
       "Tonnage              71.284671\n",
       "passengers           18.457405\n",
       "length                8.130633\n",
       "cabins                8.830000\n",
       "passenger_density    39.900949\n",
       "crew                  7.794177\n",
       "dtype: float64"
      ]
     },
     "execution_count": 12,
     "metadata": {},
     "output_type": "execute_result"
    }
   ],
   "source": [
    "df1.mean()                 # Get the mean of each column"
   ]
  },
  {
   "cell_type": "code",
   "execution_count": 13,
   "metadata": {},
   "outputs": [
    {
     "data": {
      "text/plain": [
       "Age                   7.615691\n",
       "Tonnage              37.229540\n",
       "passengers            9.677095\n",
       "length                1.793474\n",
       "cabins                4.471417\n",
       "passenger_density     8.639217\n",
       "crew                  3.503487\n",
       "dtype: float64"
      ]
     },
     "execution_count": 13,
     "metadata": {},
     "output_type": "execute_result"
    }
   ],
   "source": [
    "df1.std()    # Get the std of each column"
   ]
  },
  {
   "cell_type": "markdown",
   "metadata": {},
   "source": [
    "Data Correlation"
   ]
  },
  {
   "cell_type": "code",
   "execution_count": 14,
   "metadata": {},
   "outputs": [
    {
     "data": {
      "text/html": [
       "<div>\n",
       "<style>\n",
       "    .dataframe thead tr:only-child th {\n",
       "        text-align: right;\n",
       "    }\n",
       "\n",
       "    .dataframe thead th {\n",
       "        text-align: left;\n",
       "    }\n",
       "\n",
       "    .dataframe tbody tr th {\n",
       "        vertical-align: top;\n",
       "    }\n",
       "</style>\n",
       "<table border=\"1\" class=\"dataframe\">\n",
       "  <thead>\n",
       "    <tr style=\"text-align: right;\">\n",
       "      <th></th>\n",
       "      <th>Age</th>\n",
       "      <th>Tonnage</th>\n",
       "      <th>passengers</th>\n",
       "      <th>length</th>\n",
       "      <th>cabins</th>\n",
       "      <th>passenger_density</th>\n",
       "      <th>crew</th>\n",
       "    </tr>\n",
       "  </thead>\n",
       "  <tbody>\n",
       "    <tr>\n",
       "      <th>Age</th>\n",
       "      <td>1.000000</td>\n",
       "      <td>-0.606646</td>\n",
       "      <td>-0.515542</td>\n",
       "      <td>-0.532286</td>\n",
       "      <td>-0.510019</td>\n",
       "      <td>-0.278830</td>\n",
       "      <td>-0.530657</td>\n",
       "    </tr>\n",
       "    <tr>\n",
       "      <th>Tonnage</th>\n",
       "      <td>-0.606646</td>\n",
       "      <td>1.000000</td>\n",
       "      <td>0.945061</td>\n",
       "      <td>0.922368</td>\n",
       "      <td>0.948764</td>\n",
       "      <td>-0.040846</td>\n",
       "      <td>0.927569</td>\n",
       "    </tr>\n",
       "    <tr>\n",
       "      <th>passengers</th>\n",
       "      <td>-0.515542</td>\n",
       "      <td>0.945061</td>\n",
       "      <td>1.000000</td>\n",
       "      <td>0.883535</td>\n",
       "      <td>0.976341</td>\n",
       "      <td>-0.294867</td>\n",
       "      <td>0.915234</td>\n",
       "    </tr>\n",
       "    <tr>\n",
       "      <th>length</th>\n",
       "      <td>-0.532286</td>\n",
       "      <td>0.922368</td>\n",
       "      <td>0.883535</td>\n",
       "      <td>1.000000</td>\n",
       "      <td>0.889798</td>\n",
       "      <td>-0.090488</td>\n",
       "      <td>0.895857</td>\n",
       "    </tr>\n",
       "    <tr>\n",
       "      <th>cabins</th>\n",
       "      <td>-0.510019</td>\n",
       "      <td>0.948764</td>\n",
       "      <td>0.976341</td>\n",
       "      <td>0.889798</td>\n",
       "      <td>1.000000</td>\n",
       "      <td>-0.253181</td>\n",
       "      <td>0.950823</td>\n",
       "    </tr>\n",
       "    <tr>\n",
       "      <th>passenger_density</th>\n",
       "      <td>-0.278830</td>\n",
       "      <td>-0.040846</td>\n",
       "      <td>-0.294867</td>\n",
       "      <td>-0.090488</td>\n",
       "      <td>-0.253181</td>\n",
       "      <td>1.000000</td>\n",
       "      <td>-0.155509</td>\n",
       "    </tr>\n",
       "    <tr>\n",
       "      <th>crew</th>\n",
       "      <td>-0.530657</td>\n",
       "      <td>0.927569</td>\n",
       "      <td>0.915234</td>\n",
       "      <td>0.895857</td>\n",
       "      <td>0.950823</td>\n",
       "      <td>-0.155509</td>\n",
       "      <td>1.000000</td>\n",
       "    </tr>\n",
       "  </tbody>\n",
       "</table>\n",
       "</div>"
      ],
      "text/plain": [
       "                        Age   Tonnage  passengers    length    cabins  \\\n",
       "Age                1.000000 -0.606646   -0.515542 -0.532286 -0.510019   \n",
       "Tonnage           -0.606646  1.000000    0.945061  0.922368  0.948764   \n",
       "passengers        -0.515542  0.945061    1.000000  0.883535  0.976341   \n",
       "length            -0.532286  0.922368    0.883535  1.000000  0.889798   \n",
       "cabins            -0.510019  0.948764    0.976341  0.889798  1.000000   \n",
       "passenger_density -0.278830 -0.040846   -0.294867 -0.090488 -0.253181   \n",
       "crew              -0.530657  0.927569    0.915234  0.895857  0.950823   \n",
       "\n",
       "                   passenger_density      crew  \n",
       "Age                        -0.278830 -0.530657  \n",
       "Tonnage                    -0.040846  0.927569  \n",
       "passengers                 -0.294867  0.915234  \n",
       "length                     -0.090488  0.895857  \n",
       "cabins                     -0.253181  0.950823  \n",
       "passenger_density           1.000000 -0.155509  \n",
       "crew                       -0.155509  1.000000  "
      ]
     },
     "execution_count": 14,
     "metadata": {},
     "output_type": "execute_result"
    }
   ],
   "source": [
    "df1.corr()"
   ]
  },
  {
   "cell_type": "markdown",
   "metadata": {
    "collapsed": true
   },
   "source": [
    "## Encoding Categorical Features & Selecting Columns \n",
    "I will first encode Ship_name and Cruise_line  through get_dummies. There is no need to use sklearn for this step due to the small size of the data. To determine which columns to use in my model, I will fubd the pearson correlation coefficient through LASSO, the features that return 0 are the features that will be excluded from the final model"
   ]
  },
  {
   "cell_type": "markdown",
   "metadata": {},
   "source": [
    "One-hot encoding of the categorical features: Ship_name, Cruise_line \n",
    "Through get_dummies"
   ]
  },
  {
   "cell_type": "code",
   "execution_count": 15,
   "metadata": {
    "collapsed": true
   },
   "outputs": [],
   "source": [
    "ship_dummies = pd.get_dummies(df1['Ship_name'], prefix='ship')\n",
    "cruise_dummies = pd.get_dummies(df1['Cruise_line'], prefix='cruise')"
   ]
  },
  {
   "cell_type": "code",
   "execution_count": 16,
   "metadata": {},
   "outputs": [
    {
     "data": {
      "text/plain": [
       "(158, 9)"
      ]
     },
     "execution_count": 16,
     "metadata": {},
     "output_type": "execute_result"
    }
   ],
   "source": [
    "df1.shape"
   ]
  },
  {
   "cell_type": "code",
   "execution_count": 17,
   "metadata": {},
   "outputs": [
    {
     "data": {
      "text/html": [
       "<div>\n",
       "<style>\n",
       "    .dataframe thead tr:only-child th {\n",
       "        text-align: right;\n",
       "    }\n",
       "\n",
       "    .dataframe thead th {\n",
       "        text-align: left;\n",
       "    }\n",
       "\n",
       "    .dataframe tbody tr th {\n",
       "        vertical-align: top;\n",
       "    }\n",
       "</style>\n",
       "<table border=\"1\" class=\"dataframe\">\n",
       "  <thead>\n",
       "    <tr style=\"text-align: right;\">\n",
       "      <th></th>\n",
       "      <th>ship_Adventure</th>\n",
       "      <th>ship_Allegra</th>\n",
       "      <th>ship_Amsterdam</th>\n",
       "      <th>ship_Arcadia</th>\n",
       "      <th>ship_Aries</th>\n",
       "      <th>ship_Armonia</th>\n",
       "      <th>ship_Artemis</th>\n",
       "      <th>ship_Atlantica</th>\n",
       "      <th>ship_Aurora</th>\n",
       "      <th>ship_Brilliance</th>\n",
       "      <th>...</th>\n",
       "      <th>ship_Volendam</th>\n",
       "      <th>ship_Voyager</th>\n",
       "      <th>ship_Westerdam</th>\n",
       "      <th>ship_Whisper</th>\n",
       "      <th>ship_Wind</th>\n",
       "      <th>ship_Wonder</th>\n",
       "      <th>ship_Xpedition</th>\n",
       "      <th>ship_Zaandam</th>\n",
       "      <th>ship_Zenith</th>\n",
       "      <th>ship_Zuiderdam</th>\n",
       "    </tr>\n",
       "  </thead>\n",
       "  <tbody>\n",
       "    <tr>\n",
       "      <th>0</th>\n",
       "      <td>0</td>\n",
       "      <td>0</td>\n",
       "      <td>0</td>\n",
       "      <td>0</td>\n",
       "      <td>0</td>\n",
       "      <td>0</td>\n",
       "      <td>0</td>\n",
       "      <td>0</td>\n",
       "      <td>0</td>\n",
       "      <td>0</td>\n",
       "      <td>...</td>\n",
       "      <td>0</td>\n",
       "      <td>0</td>\n",
       "      <td>0</td>\n",
       "      <td>0</td>\n",
       "      <td>0</td>\n",
       "      <td>0</td>\n",
       "      <td>0</td>\n",
       "      <td>0</td>\n",
       "      <td>0</td>\n",
       "      <td>0</td>\n",
       "    </tr>\n",
       "    <tr>\n",
       "      <th>1</th>\n",
       "      <td>0</td>\n",
       "      <td>0</td>\n",
       "      <td>0</td>\n",
       "      <td>0</td>\n",
       "      <td>0</td>\n",
       "      <td>0</td>\n",
       "      <td>0</td>\n",
       "      <td>0</td>\n",
       "      <td>0</td>\n",
       "      <td>0</td>\n",
       "      <td>...</td>\n",
       "      <td>0</td>\n",
       "      <td>0</td>\n",
       "      <td>0</td>\n",
       "      <td>0</td>\n",
       "      <td>0</td>\n",
       "      <td>0</td>\n",
       "      <td>0</td>\n",
       "      <td>0</td>\n",
       "      <td>0</td>\n",
       "      <td>0</td>\n",
       "    </tr>\n",
       "    <tr>\n",
       "      <th>2</th>\n",
       "      <td>0</td>\n",
       "      <td>0</td>\n",
       "      <td>0</td>\n",
       "      <td>0</td>\n",
       "      <td>0</td>\n",
       "      <td>0</td>\n",
       "      <td>0</td>\n",
       "      <td>0</td>\n",
       "      <td>0</td>\n",
       "      <td>0</td>\n",
       "      <td>...</td>\n",
       "      <td>0</td>\n",
       "      <td>0</td>\n",
       "      <td>0</td>\n",
       "      <td>0</td>\n",
       "      <td>0</td>\n",
       "      <td>0</td>\n",
       "      <td>0</td>\n",
       "      <td>0</td>\n",
       "      <td>0</td>\n",
       "      <td>0</td>\n",
       "    </tr>\n",
       "    <tr>\n",
       "      <th>3</th>\n",
       "      <td>0</td>\n",
       "      <td>0</td>\n",
       "      <td>0</td>\n",
       "      <td>0</td>\n",
       "      <td>0</td>\n",
       "      <td>0</td>\n",
       "      <td>0</td>\n",
       "      <td>0</td>\n",
       "      <td>0</td>\n",
       "      <td>0</td>\n",
       "      <td>...</td>\n",
       "      <td>0</td>\n",
       "      <td>0</td>\n",
       "      <td>0</td>\n",
       "      <td>0</td>\n",
       "      <td>0</td>\n",
       "      <td>0</td>\n",
       "      <td>0</td>\n",
       "      <td>0</td>\n",
       "      <td>0</td>\n",
       "      <td>0</td>\n",
       "    </tr>\n",
       "    <tr>\n",
       "      <th>4</th>\n",
       "      <td>0</td>\n",
       "      <td>0</td>\n",
       "      <td>0</td>\n",
       "      <td>0</td>\n",
       "      <td>0</td>\n",
       "      <td>0</td>\n",
       "      <td>0</td>\n",
       "      <td>0</td>\n",
       "      <td>0</td>\n",
       "      <td>0</td>\n",
       "      <td>...</td>\n",
       "      <td>0</td>\n",
       "      <td>0</td>\n",
       "      <td>0</td>\n",
       "      <td>0</td>\n",
       "      <td>0</td>\n",
       "      <td>0</td>\n",
       "      <td>0</td>\n",
       "      <td>0</td>\n",
       "      <td>0</td>\n",
       "      <td>0</td>\n",
       "    </tr>\n",
       "  </tbody>\n",
       "</table>\n",
       "<p>5 rows × 138 columns</p>\n",
       "</div>"
      ],
      "text/plain": [
       "   ship_Adventure  ship_Allegra  ship_Amsterdam  ship_Arcadia  ship_Aries  \\\n",
       "0               0             0               0             0           0   \n",
       "1               0             0               0             0           0   \n",
       "2               0             0               0             0           0   \n",
       "3               0             0               0             0           0   \n",
       "4               0             0               0             0           0   \n",
       "\n",
       "   ship_Armonia  ship_Artemis  ship_Atlantica  ship_Aurora  ship_Brilliance  \\\n",
       "0             0             0               0            0                0   \n",
       "1             0             0               0            0                0   \n",
       "2             0             0               0            0                0   \n",
       "3             0             0               0            0                0   \n",
       "4             0             0               0            0                0   \n",
       "\n",
       "        ...        ship_Volendam  ship_Voyager  ship_Westerdam  ship_Whisper  \\\n",
       "0       ...                    0             0               0             0   \n",
       "1       ...                    0             0               0             0   \n",
       "2       ...                    0             0               0             0   \n",
       "3       ...                    0             0               0             0   \n",
       "4       ...                    0             0               0             0   \n",
       "\n",
       "   ship_Wind  ship_Wonder  ship_Xpedition  ship_Zaandam  ship_Zenith  \\\n",
       "0          0            0               0             0            0   \n",
       "1          0            0               0             0            0   \n",
       "2          0            0               0             0            0   \n",
       "3          0            0               0             0            0   \n",
       "4          0            0               0             0            0   \n",
       "\n",
       "   ship_Zuiderdam  \n",
       "0               0  \n",
       "1               0  \n",
       "2               0  \n",
       "3               0  \n",
       "4               0  \n",
       "\n",
       "[5 rows x 138 columns]"
      ]
     },
     "execution_count": 17,
     "metadata": {},
     "output_type": "execute_result"
    }
   ],
   "source": [
    "ship_dummies.head()"
   ]
  },
  {
   "cell_type": "markdown",
   "metadata": {},
   "source": [
    "Ship_name and Cruise_line are removed after get_dummies so that I can concat df1 to ship_dummies and cruise_dummies"
   ]
  },
  {
   "cell_type": "code",
   "execution_count": 18,
   "metadata": {
    "collapsed": true
   },
   "outputs": [],
   "source": [
    "df1.drop(['Ship_name', 'Cruise_line'], axis=1, inplace=True)"
   ]
  },
  {
   "cell_type": "code",
   "execution_count": 19,
   "metadata": {
    "collapsed": true
   },
   "outputs": [],
   "source": [
    "df2 = pd.concat([df1, ship_dummies.iloc[:, 1:], cruise_dummies.iloc[:, 1:]], axis=1)"
   ]
  },
  {
   "cell_type": "code",
   "execution_count": 20,
   "metadata": {},
   "outputs": [
    {
     "name": "stdout",
     "output_type": "stream",
     "text": [
      "<class 'pandas.core.frame.DataFrame'>\n",
      "RangeIndex: 158 entries, 0 to 157\n",
      "Columns: 163 entries, Age to cruise_Windstar\n",
      "dtypes: float64(6), int64(1), uint8(156)\n",
      "memory usage: 32.8 KB\n"
     ]
    }
   ],
   "source": [
    "df2.info()"
   ]
  },
  {
   "cell_type": "markdown",
   "metadata": {},
   "source": [
    "## Machine Learning Modeling\n",
    "\n",
    "I will run through the model twice. The first run will include all of the non-categorical features. The second run will be the final model used. I am determining which features to use base upon the lasso coeficient."
   ]
  },
  {
   "cell_type": "code",
   "execution_count": 21,
   "metadata": {
    "collapsed": true
   },
   "outputs": [],
   "source": [
    "from sklearn.linear_model import LinearRegression\n",
    "from sklearn.model_selection import train_test_split"
   ]
  },
  {
   "cell_type": "markdown",
   "metadata": {},
   "source": [
    "## Model 1"
   ]
  },
  {
   "cell_type": "code",
   "execution_count": 22,
   "metadata": {
    "collapsed": true
   },
   "outputs": [],
   "source": [
    "feature_cols1 = ['Age', 'Tonnage', 'passengers', 'length','cabins', 'passenger_density'] + list(ship_dummies.columns[1:]) + list(cruise_dummies.columns[1:])"
   ]
  },
  {
   "cell_type": "code",
   "execution_count": 23,
   "metadata": {
    "collapsed": true
   },
   "outputs": [],
   "source": [
    "X = df2[feature_cols1]\n",
    "y = df2['crew']"
   ]
  },
  {
   "cell_type": "code",
   "execution_count": 24,
   "metadata": {
    "collapsed": true
   },
   "outputs": [],
   "source": [
    "X_train, X_test, y_train, y_test = train_test_split(X, y, test_size=0.4, random_state=0)"
   ]
  },
  {
   "cell_type": "code",
   "execution_count": 25,
   "metadata": {},
   "outputs": [
    {
     "data": {
      "text/plain": [
       "LinearRegression(copy_X=True, fit_intercept=True, n_jobs=1, normalize=False)"
      ]
     },
     "execution_count": 25,
     "metadata": {},
     "output_type": "execute_result"
    }
   ],
   "source": [
    "lr = LinearRegression()\n",
    "lr.fit(X_train, y_train)"
   ]
  },
  {
   "cell_type": "code",
   "execution_count": 26,
   "metadata": {},
   "outputs": [],
   "source": [
    "# training error\n",
    "lr = LinearRegression()\n",
    "lr.fit(X, y)\n",
    "y_pred = lr.predict(X)\n",
    "training_error = (1 - np.sqrt(metrics.mean_squared_error(y, y_pred))) \n",
    "\n",
    "\n",
    "\n",
    "# testing error\n",
    "lr = LinearRegression()\n",
    "lr.fit(X_train, y_train)\n",
    "y_pred = lr.predict(X_test)\n",
    "testing_error = (1 - np.sqrt(metrics.mean_squared_error(y_test, y_pred)))"
   ]
  },
  {
   "cell_type": "code",
   "execution_count": 27,
   "metadata": {},
   "outputs": [
    {
     "data": {
      "text/plain": [
       "0.84191625043745844"
      ]
     },
     "execution_count": 27,
     "metadata": {},
     "output_type": "execute_result"
    }
   ],
   "source": [
    "training_error"
   ]
  },
  {
   "cell_type": "code",
   "execution_count": 28,
   "metadata": {},
   "outputs": [
    {
     "data": {
      "text/plain": [
       "0.13007201381528199"
      ]
     },
     "execution_count": 28,
     "metadata": {},
     "output_type": "execute_result"
    }
   ],
   "source": [
    "testing_error"
   ]
  },
  {
   "cell_type": "markdown",
   "metadata": {},
   "source": [
    "This model has an over-fitting problem.\n",
    "Regularization is used to solve over-fitting problem.  \n",
    "Coeficients before regularization"
   ]
  },
  {
   "cell_type": "code",
   "execution_count": 29,
   "metadata": {},
   "outputs": [
    {
     "data": {
      "text/plain": [
       "array([ -1.00348899e-02,  -9.23874299e-03,  -4.48273716e-02,\n",
       "         5.10085139e-01,   7.83174468e-01,   1.79985816e-02,\n",
       "         3.88948206e-01,  -6.69548305e-02,  -2.61819920e-01,\n",
       "        -1.10994547e-13,  -1.31228362e-13,  -7.28861416e-14,\n",
       "        -2.71800824e-01,   9.83657600e-14,  -2.20934382e-14,\n",
       "         4.72399897e-14,  -1.90542027e-14,   3.60822483e-14,\n",
       "         4.87237760e-01,   1.32116540e-14,   7.39700477e+00,\n",
       "         1.47687615e-01,  -3.81708554e-14,  -4.27410561e-01,\n",
       "         2.05206558e-01,  -2.77104930e-01,   6.73627820e-14,\n",
       "        -1.93413045e+00,   1.04165721e+00,   9.71412985e-01,\n",
       "        -2.37297007e-02,  -1.78357329e-13,   6.50590692e-14,\n",
       "        -9.43315469e-01,   2.63677968e-14,  -7.99651101e-02,\n",
       "         4.06236049e-01,  -5.49009321e-01,  -8.53345172e-14,\n",
       "         1.41553436e-15,  -3.44764601e-01,   2.22108337e-01,\n",
       "         5.05151476e-15,  -2.37323738e-01,   8.45829516e-01,\n",
       "        -8.88178420e-16,   3.79397138e-01,   3.95292850e-01,\n",
       "        -1.09674986e-01,   1.00996056e+00,   1.00151765e+00,\n",
       "        -3.84201908e-01,   6.10622664e-15,   1.27428751e-01,\n",
       "         9.91482765e-01,   1.08558189e-01,   1.63810761e-01,\n",
       "        -1.18841025e-01,   2.16561970e-01,   1.90958360e-14,\n",
       "        -1.15066447e-01,  -2.69743120e-01,  -2.59449751e-01,\n",
       "        -1.14908083e-14,   3.92805893e-01,  -3.54799491e-01,\n",
       "        -5.83489511e-01,   2.47718512e-15,   6.11316553e-15,\n",
       "        -4.60982883e-01,  -3.16927832e-01,   7.26640181e-01,\n",
       "        -1.10650462e-02,   1.67757395e-01,   1.60982339e-15,\n",
       "        -3.56333818e-01,  -1.34329205e+00,   1.07358972e-01,\n",
       "        -2.14987975e-01,   3.83697772e-01,   1.99840144e-14,\n",
       "         4.30211422e-16,   2.55351296e-15,  -2.33146835e-15,\n",
       "        -2.38810177e-02,   7.03788782e-01,   9.71412985e-01,\n",
       "        -4.90891492e-01,   1.69309011e-15,   1.95041695e-01,\n",
       "         1.47659662e-14,  -2.97488384e-01,   8.68141002e-01,\n",
       "        -2.93493924e-02,   1.43367724e+00,  -1.07217276e+00,\n",
       "        -1.18841025e-01,   5.28512197e-01,   1.85349981e-01,\n",
       "         1.27428751e-01,   1.01447385e-01,   1.30004890e-01,\n",
       "         5.80572400e-01,   0.00000000e+00,   0.00000000e+00,\n",
       "         0.00000000e+00,  -7.14210628e-01,   0.00000000e+00,\n",
       "         0.00000000e+00,   4.08442417e-01,   0.00000000e+00,\n",
       "         3.06369836e-02,   2.15444248e-01,   0.00000000e+00,\n",
       "        -2.42648523e-02,   1.26544586e+00,   0.00000000e+00,\n",
       "        -3.57080579e-01,   0.00000000e+00,   1.57722505e-01,\n",
       "         0.00000000e+00,  -1.15718686e+00,   3.06868006e-02,\n",
       "         0.00000000e+00,  -1.98892813e-02,  -2.30971655e-01,\n",
       "         0.00000000e+00,   0.00000000e+00,   0.00000000e+00,\n",
       "         0.00000000e+00,   8.04752264e-01,   0.00000000e+00,\n",
       "        -9.58587505e-01,   0.00000000e+00,   1.15093754e+00,\n",
       "         0.00000000e+00,   0.00000000e+00,  -6.34243147e-02,\n",
       "         0.00000000e+00,   1.35723229e-01,  -9.38794836e-01,\n",
       "         0.00000000e+00,  -4.08437459e-01,  -7.59947359e-01,\n",
       "         5.97825699e-01,  -2.82101892e-01,   3.06868006e-02,\n",
       "         3.32155078e-01,   3.92805893e-01,  -5.25091420e-01,\n",
       "        -7.67632231e-03,   5.81499443e-01,   3.62216474e-01,\n",
       "         0.00000000e+00,  -2.85700938e-01,  -5.01684707e-01,\n",
       "         3.90311240e-01,  -1.29554160e+00,   1.95041695e-01,\n",
       "        -3.27873311e-02,   5.56197114e-01,   4.89474182e-01])"
      ]
     },
     "execution_count": 29,
     "metadata": {},
     "output_type": "execute_result"
    }
   ],
   "source": [
    "lr.coef_"
   ]
  },
  {
   "cell_type": "code",
   "execution_count": 30,
   "metadata": {
    "collapsed": true
   },
   "outputs": [],
   "source": [
    "from sklearn.linear_model import Lasso"
   ]
  },
  {
   "cell_type": "code",
   "execution_count": 31,
   "metadata": {},
   "outputs": [
    {
     "data": {
      "text/plain": [
       "Lasso(alpha=1.0, copy_X=True, fit_intercept=True, max_iter=1000,\n",
       "   normalize=False, positive=False, precompute=False, random_state=None,\n",
       "   selection='cyclic', tol=0.0001, warm_start=False)"
      ]
     },
     "execution_count": 31,
     "metadata": {},
     "output_type": "execute_result"
    }
   ],
   "source": [
    "lasso = Lasso()\n",
    "lasso.fit(X_train, y_train)"
   ]
  },
  {
   "cell_type": "markdown",
   "metadata": {},
   "source": [
    "## Coeficients after regularization"
   ]
  },
  {
   "cell_type": "code",
   "execution_count": 32,
   "metadata": {},
   "outputs": [
    {
     "data": {
      "text/plain": [
       "array([ 0.        ,  0.08863398,  0.        ,  0.        ,  0.        ,\n",
       "       -0.03554455, -0.        , -0.        , -0.        ,  0.        ,\n",
       "        0.        ,  0.        ,  0.        ,  0.        ,  0.        ,\n",
       "        0.        ,  0.        ,  0.        ,  0.        ,  0.        ,\n",
       "        0.        ,  0.        ,  0.        ,  0.        ,  0.        ,\n",
       "       -0.        ,  0.        , -0.        ,  0.        ,  0.        ,\n",
       "        0.        ,  0.        ,  0.        , -0.        ,  0.        ,\n",
       "       -0.        , -0.        , -0.        ,  0.        ,  0.        ,\n",
       "       -0.        , -0.        ,  0.        ,  0.        ,  0.        ,\n",
       "        0.        , -0.        ,  0.        , -0.        ,  0.        ,\n",
       "        0.        , -0.        ,  0.        ,  0.        ,  0.        ,\n",
       "       -0.        ,  0.        , -0.        , -0.        ,  0.        ,\n",
       "        0.        ,  0.        ,  0.        ,  0.        ,  0.        ,\n",
       "       -0.        , -0.        ,  0.        ,  0.        , -0.        ,\n",
       "        0.        ,  0.        ,  0.        ,  0.        ,  0.        ,\n",
       "       -0.        ,  0.        ,  0.        , -0.        ,  0.        ,\n",
       "        0.        ,  0.        ,  0.        ,  0.        ,  0.        ,\n",
       "       -0.        ,  0.        , -0.        ,  0.        , -0.        ,\n",
       "        0.        ,  0.        ,  0.        ,  0.        , -0.        ,\n",
       "       -0.        , -0.        , -0.        , -0.        ,  0.        ,\n",
       "       -0.        , -0.        , -0.        ,  0.        ,  0.        ,\n",
       "        0.        ,  0.        ,  0.        ,  0.        , -0.        ,\n",
       "        0.        ,  0.        ,  0.        ,  0.        , -0.        ,\n",
       "        0.        ,  0.        , -0.        ,  0.        ,  0.        ,\n",
       "        0.        , -0.        , -0.        ,  0.        , -0.        ,\n",
       "       -0.        ,  0.        ,  0.        ,  0.        ,  0.        ,\n",
       "        0.        ,  0.        , -0.        ,  0.        , -0.        ,\n",
       "        0.        ,  0.        , -0.        ,  0.        , -0.        ,\n",
       "       -0.        ,  0.        , -0.        ,  0.        ,  0.        ,\n",
       "       -0.        , -0.        , -0.        ,  0.        , -0.        ,\n",
       "        0.        ,  0.        ,  0.        ,  0.        ,  0.        ,\n",
       "       -0.        , -0.        , -0.        , -0.        , -0.        ,\n",
       "        0.        , -0.        ])"
      ]
     },
     "execution_count": 32,
     "metadata": {},
     "output_type": "execute_result"
    }
   ],
   "source": [
    "lasso.coef_"
   ]
  },
  {
   "cell_type": "code",
   "execution_count": 33,
   "metadata": {},
   "outputs": [
    {
     "data": {
      "text/plain": [
       "Index(['Age', 'Tonnage', 'passengers', 'length', 'cabins', 'passenger_density',\n",
       "       'crew'],\n",
       "      dtype='object')"
      ]
     },
     "execution_count": 33,
     "metadata": {},
     "output_type": "execute_result"
    }
   ],
   "source": [
    "df1.columns"
   ]
  },
  {
   "cell_type": "code",
   "execution_count": 34,
   "metadata": {},
   "outputs": [
    {
     "data": {
      "text/plain": [
       "[('Age', 0.0),\n",
       " ('Tonnage', 0.088633979447882413),\n",
       " ('passengers', 0.0),\n",
       " ('length', 0.0),\n",
       " ('cabins', 0.0),\n",
       " ('passenger_density', -0.035544547065105576),\n",
       " ('ship_Allegra', -0.0),\n",
       " ('ship_Amsterdam', -0.0),\n",
       " ('ship_Arcadia', -0.0),\n",
       " ('ship_Aries', 0.0),\n",
       " ('ship_Armonia', 0.0),\n",
       " ('ship_Artemis', 0.0),\n",
       " ('ship_Atlantica', 0.0),\n",
       " ('ship_Aurora', 0.0),\n",
       " ('ship_Brilliance', 0.0),\n",
       " ('ship_Caribbean', 0.0),\n",
       " ('ship_Celebration', 0.0),\n",
       " ('ship_Century', 0.0),\n",
       " ('ship_Classica', 0.0),\n",
       " ('ship_Cloud', 0.0),\n",
       " ('ship_Conquest', 0.0),\n",
       " ('ship_Constellation', 0.0),\n",
       " ('ship_Coral', 0.0),\n",
       " ('ship_Crown', 0.0),\n",
       " ('ship_Dawn', 0.0),\n",
       " ('ship_Destiny', -0.0),\n",
       " ('ship_Diamond', 0.0),\n",
       " ('ship_Dream', -0.0),\n",
       " ('ship_Ecstasy', 0.0),\n",
       " ('ship_Elation', 0.0),\n",
       " ('ship_Emerald', 0.0),\n",
       " ('ship_Empress', 0.0),\n",
       " ('ship_Enchantment', 0.0),\n",
       " ('ship_Eurodam', -0.0),\n",
       " ('ship_Europa', 0.0),\n",
       " ('ship_Explorer', -0.0),\n",
       " ('ship_ExplorerII', -0.0),\n",
       " ('ship_Fantasia', -0.0),\n",
       " ('ship_Fantasy', 0.0),\n",
       " ('ship_Fascination', 0.0),\n",
       " ('ship_Fortuna', -0.0),\n",
       " ('ship_Freedom', -0.0),\n",
       " ('ship_Galaxy', 0.0),\n",
       " ('ship_Gem', 0.0),\n",
       " ('ship_Gemini', 0.0),\n",
       " ('ship_Glory', 0.0),\n",
       " ('ship_Golden', -0.0),\n",
       " ('ship_Grand', 0.0),\n",
       " ('ship_Grandeur', -0.0),\n",
       " ('ship_Holiday', 0.0),\n",
       " ('ship_Imagination', 0.0),\n",
       " ('ship_Independence', -0.0),\n",
       " ('ship_Infinity', 0.0),\n",
       " ('ship_Insignia', 0.0),\n",
       " ('ship_Inspiration', 0.0),\n",
       " ('ship_Island', -0.0),\n",
       " ('ship_Jewel', 0.0),\n",
       " ('ship_Journey', -0.0),\n",
       " ('ship_Legend', -0.0),\n",
       " ('ship_Liberty', 0.0),\n",
       " ('ship_Liberty*', 0.0),\n",
       " ('ship_Libra', 0.0),\n",
       " ('ship_Lirica', 0.0),\n",
       " ('ship_Maasdam', 0.0),\n",
       " ('ship_Magic', 0.0),\n",
       " ('ship_Magica', -0.0),\n",
       " ('ship_Majesty', -0.0),\n",
       " ('ship_MarcoPolo', 0.0),\n",
       " ('ship_Marina', 0.0),\n",
       " ('ship_Mariner', -0.0),\n",
       " ('ship_Mediterranea', 0.0),\n",
       " ('ship_Melody', 0.0),\n",
       " ('ship_Mercury', 0.0),\n",
       " ('ship_Millenium', 0.0),\n",
       " ('ship_Miracle', 0.0),\n",
       " ('ship_Monarch', -0.0),\n",
       " ('ship_Musica', 0.0),\n",
       " ('ship_Nautica', 0.0),\n",
       " ('ship_Navigator', -0.0),\n",
       " ('ship_Noordam', 0.0),\n",
       " ('ship_Oasis', 0.0),\n",
       " ('ship_Oceana', 0.0),\n",
       " ('ship_Oosterdam', 0.0),\n",
       " ('ship_Opera', 0.0),\n",
       " ('ship_Oriana', 0.0),\n",
       " ('ship_Pacific', -0.0),\n",
       " ('ship_Paradise', 0.0),\n",
       " ('ship_PaulGauguin', -0.0),\n",
       " ('ship_Pisces', 0.0),\n",
       " ('ship_Pride', -0.0),\n",
       " ('ship_PrideofAloha', 0.0),\n",
       " ('ship_PrideofAmerica', 0.0),\n",
       " ('ship_Prinsendam', 0.0),\n",
       " ('ship_QueenElizabethII', 0.0),\n",
       " ('ship_QueenMary2', -0.0),\n",
       " ('ship_QueenVictoria', -0.0),\n",
       " ('ship_Quest', -0.0),\n",
       " ('ship_Radiance', -0.0),\n",
       " ('ship_Regal', -0.0),\n",
       " ('ship_Regatta', 0.0),\n",
       " ('ship_Rhapsody', -0.0),\n",
       " ('ship_Romantica', -0.0),\n",
       " ('ship_Rotterdam', -0.0),\n",
       " ('ship_Royal', 0.0),\n",
       " ('ship_Ryndam', 0.0),\n",
       " ('ship_Saphire', 0.0),\n",
       " ('ship_Sea', 0.0),\n",
       " ('ship_Sensation', 0.0),\n",
       " ('ship_Serena', 0.0),\n",
       " ('ship_Serenade', -0.0),\n",
       " ('ship_Serenity', 0.0),\n",
       " ('ship_Shadow', 0.0),\n",
       " ('ship_Sinfonia', 0.0),\n",
       " ('ship_Solstice', 0.0),\n",
       " ('ship_Sovreign', -0.0),\n",
       " ('ship_Spirit', 0.0),\n",
       " ('ship_Splendour', 0.0),\n",
       " ('ship_Star', -0.0),\n",
       " ('ship_Statendam', 0.0),\n",
       " ('ship_Summit', 0.0),\n",
       " ('ship_Sun', 0.0),\n",
       " ('ship_Surf', -0.0),\n",
       " ('ship_Symphony', -0.0),\n",
       " ('ship_Tahitian', 0.0),\n",
       " ('ship_Taurus', -0.0),\n",
       " ('ship_Triumph', -0.0),\n",
       " ('ship_Valor', 0.0),\n",
       " ('ship_Veendam', 0.0),\n",
       " ('ship_Ventura', 0.0),\n",
       " ('ship_Victoria', 0.0),\n",
       " ('ship_Victory', 0.0),\n",
       " ('ship_Virgo', 0.0),\n",
       " ('ship_Vision', -0.0),\n",
       " ('ship_Volendam', 0.0),\n",
       " ('ship_Voyager', -0.0),\n",
       " ('ship_Westerdam', 0.0),\n",
       " ('ship_Whisper', 0.0),\n",
       " ('ship_Wind', -0.0),\n",
       " ('ship_Wonder', 0.0),\n",
       " ('ship_Xpedition', -0.0),\n",
       " ('ship_Zaandam', -0.0),\n",
       " ('ship_Zenith', 0.0),\n",
       " ('ship_Zuiderdam', -0.0),\n",
       " ('cruise_Carnival', 0.0),\n",
       " ('cruise_Celebrity', 0.0),\n",
       " ('cruise_Costa', -0.0),\n",
       " ('cruise_Crystal', -0.0),\n",
       " ('cruise_Cunard', -0.0),\n",
       " ('cruise_Disney', 0.0),\n",
       " ('cruise_Holland_American', -0.0),\n",
       " ('cruise_MSC', 0.0),\n",
       " ('cruise_Norwegian', 0.0),\n",
       " ('cruise_Oceania', 0.0),\n",
       " ('cruise_Orient', 0.0),\n",
       " ('cruise_P&O', 0.0),\n",
       " ('cruise_Princess', -0.0),\n",
       " ('cruise_Regent_Seven_Seas', -0.0),\n",
       " ('cruise_Royal_Caribbean', -0.0),\n",
       " ('cruise_Seabourn', -0.0),\n",
       " ('cruise_Silversea', -0.0),\n",
       " ('cruise_Star', 0.0),\n",
       " ('cruise_Windstar', -0.0)]"
      ]
     },
     "execution_count": 34,
     "metadata": {},
     "output_type": "execute_result"
    }
   ],
   "source": [
    "list(zip(feature_cols1, lasso.coef_))"
   ]
  },
  {
   "cell_type": "markdown",
   "metadata": {},
   "source": [
    "## Ridge Coeficients after regularization"
   ]
  },
  {
   "cell_type": "code",
   "execution_count": 35,
   "metadata": {},
   "outputs": [
    {
     "name": "stderr",
     "output_type": "stream",
     "text": [
      "C:\\Users\\kdsing2\\Anaconda3\\lib\\site-packages\\scipy\\linalg\\basic.py:223: RuntimeWarning: scipy.linalg.solve\n",
      "Ill-conditioned matrix detected. Result is not guaranteed to be accurate.\n",
      "Reciprocal condition number: 1.0530151034148167e-17\n",
      "  ' condition number: {}'.format(rcond), RuntimeWarning)\n",
      "C:\\Users\\kdsing2\\Anaconda3\\lib\\site-packages\\scipy\\linalg\\basic.py:223: RuntimeWarning: scipy.linalg.solve\n",
      "Ill-conditioned matrix detected. Result is not guaranteed to be accurate.\n",
      "Reciprocal condition number: 1.1046446118651583e-17\n",
      "  ' condition number: {}'.format(rcond), RuntimeWarning)\n",
      "C:\\Users\\kdsing2\\Anaconda3\\lib\\site-packages\\scipy\\linalg\\basic.py:223: RuntimeWarning: scipy.linalg.solve\n",
      "Ill-conditioned matrix detected. Result is not guaranteed to be accurate.\n",
      "Reciprocal condition number: 1.2290900558002508e-17\n",
      "  ' condition number: {}'.format(rcond), RuntimeWarning)\n",
      "C:\\Users\\kdsing2\\Anaconda3\\lib\\site-packages\\scipy\\linalg\\basic.py:223: RuntimeWarning: scipy.linalg.solve\n",
      "Ill-conditioned matrix detected. Result is not guaranteed to be accurate.\n",
      "Reciprocal condition number: 1.2980351219469982e-17\n",
      "  ' condition number: {}'.format(rcond), RuntimeWarning)\n",
      "C:\\Users\\kdsing2\\Anaconda3\\lib\\site-packages\\scipy\\linalg\\basic.py:223: RuntimeWarning: scipy.linalg.solve\n",
      "Ill-conditioned matrix detected. Result is not guaranteed to be accurate.\n",
      "Reciprocal condition number: 1.5756074906536574e-17\n",
      "  ' condition number: {}'.format(rcond), RuntimeWarning)\n",
      "C:\\Users\\kdsing2\\Anaconda3\\lib\\site-packages\\scipy\\linalg\\basic.py:223: RuntimeWarning: scipy.linalg.solve\n",
      "Ill-conditioned matrix detected. Result is not guaranteed to be accurate.\n",
      "Reciprocal condition number: 1.523792530293391e-17\n",
      "  ' condition number: {}'.format(rcond), RuntimeWarning)\n",
      "C:\\Users\\kdsing2\\Anaconda3\\lib\\site-packages\\scipy\\linalg\\basic.py:223: RuntimeWarning: scipy.linalg.solve\n",
      "Ill-conditioned matrix detected. Result is not guaranteed to be accurate.\n",
      "Reciprocal condition number: 1.8778454900682293e-17\n",
      "  ' condition number: {}'.format(rcond), RuntimeWarning)\n",
      "C:\\Users\\kdsing2\\Anaconda3\\lib\\site-packages\\scipy\\linalg\\basic.py:223: RuntimeWarning: scipy.linalg.solve\n",
      "Ill-conditioned matrix detected. Result is not guaranteed to be accurate.\n",
      "Reciprocal condition number: 2.02580866589704e-17\n",
      "  ' condition number: {}'.format(rcond), RuntimeWarning)\n",
      "C:\\Users\\kdsing2\\Anaconda3\\lib\\site-packages\\scipy\\linalg\\basic.py:223: RuntimeWarning: scipy.linalg.solve\n",
      "Ill-conditioned matrix detected. Result is not guaranteed to be accurate.\n",
      "Reciprocal condition number: 2.1109038506871014e-17\n",
      "  ' condition number: {}'.format(rcond), RuntimeWarning)\n",
      "C:\\Users\\kdsing2\\Anaconda3\\lib\\site-packages\\scipy\\linalg\\basic.py:223: RuntimeWarning: scipy.linalg.solve\n",
      "Ill-conditioned matrix detected. Result is not guaranteed to be accurate.\n",
      "Reciprocal condition number: 2.388088941063942e-17\n",
      "  ' condition number: {}'.format(rcond), RuntimeWarning)\n",
      "C:\\Users\\kdsing2\\Anaconda3\\lib\\site-packages\\scipy\\linalg\\basic.py:223: RuntimeWarning: scipy.linalg.solve\n",
      "Ill-conditioned matrix detected. Result is not guaranteed to be accurate.\n",
      "Reciprocal condition number: 2.7199066265862358e-17\n",
      "  ' condition number: {}'.format(rcond), RuntimeWarning)\n",
      "C:\\Users\\kdsing2\\Anaconda3\\lib\\site-packages\\scipy\\linalg\\basic.py:223: RuntimeWarning: scipy.linalg.solve\n",
      "Ill-conditioned matrix detected. Result is not guaranteed to be accurate.\n",
      "Reciprocal condition number: 2.923153956643004e-17\n",
      "  ' condition number: {}'.format(rcond), RuntimeWarning)\n",
      "C:\\Users\\kdsing2\\Anaconda3\\lib\\site-packages\\scipy\\linalg\\basic.py:223: RuntimeWarning: scipy.linalg.solve\n",
      "Ill-conditioned matrix detected. Result is not guaranteed to be accurate.\n",
      "Reciprocal condition number: 3.301220220953786e-17\n",
      "  ' condition number: {}'.format(rcond), RuntimeWarning)\n",
      "C:\\Users\\kdsing2\\Anaconda3\\lib\\site-packages\\scipy\\linalg\\basic.py:223: RuntimeWarning: scipy.linalg.solve\n",
      "Ill-conditioned matrix detected. Result is not guaranteed to be accurate.\n",
      "Reciprocal condition number: 3.538782890176859e-17\n",
      "  ' condition number: {}'.format(rcond), RuntimeWarning)\n",
      "C:\\Users\\kdsing2\\Anaconda3\\lib\\site-packages\\scipy\\linalg\\basic.py:223: RuntimeWarning: scipy.linalg.solve\n",
      "Ill-conditioned matrix detected. Result is not guaranteed to be accurate.\n",
      "Reciprocal condition number: 3.9299037983054975e-17\n",
      "  ' condition number: {}'.format(rcond), RuntimeWarning)\n",
      "C:\\Users\\kdsing2\\Anaconda3\\lib\\site-packages\\scipy\\linalg\\basic.py:223: RuntimeWarning: scipy.linalg.solve\n",
      "Ill-conditioned matrix detected. Result is not guaranteed to be accurate.\n",
      "Reciprocal condition number: 4.2629414407581104e-17\n",
      "  ' condition number: {}'.format(rcond), RuntimeWarning)\n",
      "C:\\Users\\kdsing2\\Anaconda3\\lib\\site-packages\\scipy\\linalg\\basic.py:223: RuntimeWarning: scipy.linalg.solve\n",
      "Ill-conditioned matrix detected. Result is not guaranteed to be accurate.\n",
      "Reciprocal condition number: 4.665243095723161e-17\n",
      "  ' condition number: {}'.format(rcond), RuntimeWarning)\n",
      "C:\\Users\\kdsing2\\Anaconda3\\lib\\site-packages\\scipy\\linalg\\basic.py:223: RuntimeWarning: scipy.linalg.solve\n",
      "Ill-conditioned matrix detected. Result is not guaranteed to be accurate.\n",
      "Reciprocal condition number: 5.131939538084196e-17\n",
      "  ' condition number: {}'.format(rcond), RuntimeWarning)\n",
      "C:\\Users\\kdsing2\\Anaconda3\\lib\\site-packages\\scipy\\linalg\\basic.py:223: RuntimeWarning: scipy.linalg.solve\n",
      "Ill-conditioned matrix detected. Result is not guaranteed to be accurate.\n",
      "Reciprocal condition number: 5.61969668616167e-17\n",
      "  ' condition number: {}'.format(rcond), RuntimeWarning)\n",
      "C:\\Users\\kdsing2\\Anaconda3\\lib\\site-packages\\scipy\\linalg\\basic.py:223: RuntimeWarning: scipy.linalg.solve\n",
      "Ill-conditioned matrix detected. Result is not guaranteed to be accurate.\n",
      "Reciprocal condition number: 6.194229594473052e-17\n",
      "  ' condition number: {}'.format(rcond), RuntimeWarning)\n",
      "C:\\Users\\kdsing2\\Anaconda3\\lib\\site-packages\\scipy\\linalg\\basic.py:223: RuntimeWarning: scipy.linalg.solve\n",
      "Ill-conditioned matrix detected. Result is not guaranteed to be accurate.\n",
      "Reciprocal condition number: 6.760361844954827e-17\n",
      "  ' condition number: {}'.format(rcond), RuntimeWarning)\n",
      "C:\\Users\\kdsing2\\Anaconda3\\lib\\site-packages\\scipy\\linalg\\basic.py:223: RuntimeWarning: scipy.linalg.solve\n",
      "Ill-conditioned matrix detected. Result is not guaranteed to be accurate.\n",
      "Reciprocal condition number: 7.435144694589767e-17\n",
      "  ' condition number: {}'.format(rcond), RuntimeWarning)\n",
      "C:\\Users\\kdsing2\\Anaconda3\\lib\\site-packages\\scipy\\linalg\\basic.py:223: RuntimeWarning: scipy.linalg.solve\n",
      "Ill-conditioned matrix detected. Result is not guaranteed to be accurate.\n",
      "Reciprocal condition number: 8.118256477112573e-17\n",
      "  ' condition number: {}'.format(rcond), RuntimeWarning)\n",
      "C:\\Users\\kdsing2\\Anaconda3\\lib\\site-packages\\scipy\\linalg\\basic.py:223: RuntimeWarning: scipy.linalg.solve\n",
      "Ill-conditioned matrix detected. Result is not guaranteed to be accurate.\n",
      "Reciprocal condition number: 8.975182880556251e-17\n",
      "  ' condition number: {}'.format(rcond), RuntimeWarning)\n",
      "C:\\Users\\kdsing2\\Anaconda3\\lib\\site-packages\\scipy\\linalg\\basic.py:223: RuntimeWarning: scipy.linalg.solve\n",
      "Ill-conditioned matrix detected. Result is not guaranteed to be accurate.\n",
      "Reciprocal condition number: 9.838647453638791e-17\n",
      "  ' condition number: {}'.format(rcond), RuntimeWarning)\n",
      "C:\\Users\\kdsing2\\Anaconda3\\lib\\site-packages\\scipy\\linalg\\basic.py:223: RuntimeWarning: scipy.linalg.solve\n",
      "Ill-conditioned matrix detected. Result is not guaranteed to be accurate.\n",
      "Reciprocal condition number: 1.0770466032156127e-16\n",
      "  ' condition number: {}'.format(rcond), RuntimeWarning)\n"
     ]
    },
    {
     "data": {
      "image/png": "[encoded data removed]",
      "text/plain": [
       "<matplotlib.figure.Figure at 0x21153cada58>"
      ]
     },
     "metadata": {},
     "output_type": "display_data"
    }
   ],
   "source": [
    "from sklearn import linear_model\n",
    "X = df2[feature_cols1]\n",
    "y = df2['crew']\n",
    "\n",
    "n_alphas = 200\n",
    "alphas = np.logspace(-10, -2, n_alphas)\n",
    "\n",
    "coefs = []\n",
    "for a in alphas:\n",
    "    ridge = linear_model.Ridge(alpha=a, fit_intercept=False)\n",
    "    ridge.fit(X, y)\n",
    "    coefs.append(ridge.coef_)\n",
    "\n",
    "ax = plt.gca()\n",
    "\n",
    "ax.plot(alphas, coefs)\n",
    "ax.set_xscale('log')\n",
    "ax.set_xlim(ax.get_xlim()[::-1])  # reverse axis\n",
    "plt.xlabel('alpha')\n",
    "plt.ylabel('weights')\n",
    "plt.title('Ridge coefficients as a function of the regularization')\n",
    "plt.axis('tight')\n",
    "plt.show()    \n",
    "    "
   ]
  },
  {
   "cell_type": "markdown",
   "metadata": {},
   "source": [
    "The Ridge coefficient plot shows the estimator of the Ridge Regression. Each color represents a different feature of the coefficient vector.  After a certain number of features the model is overfit. Which is where Lasso comes in to show me exactly which features needed to be dropped. The Ridge Coefficient shows a variance problem. I will drop the features to increase Bias. Less variables means an increase in Bias. "
   ]
  },
  {
   "cell_type": "markdown",
   "metadata": {},
   "source": [
    "The model is currently over-fit so I have a variance problem. I must now increase my bias by using less features in the final model."
   ]
  },
  {
   "cell_type": "markdown",
   "metadata": {},
   "source": [
    "Using lasso I was able to identify the two columns that will be useful in predicting crew size. passenger_density and Tonnage.\n",
    "\n",
    "Moving forward I will use tonnage and passenger_density as my X values  and my y value is crew\n",
    "\n"
   ]
  },
  {
   "cell_type": "markdown",
   "metadata": {},
   "source": [
    "## Final Machine Learning Model \n",
    "\n"
   ]
  },
  {
   "cell_type": "code",
   "execution_count": 36,
   "metadata": {},
   "outputs": [],
   "source": [
    "feature_cols2 = ['Tonnage', 'passenger_density']  "
   ]
  },
  {
   "cell_type": "code",
   "execution_count": 37,
   "metadata": {},
   "outputs": [],
   "source": [
    "X = df2[feature_cols2]\n",
    "y = df2['crew']"
   ]
  },
  {
   "cell_type": "code",
   "execution_count": 38,
   "metadata": {
    "collapsed": true
   },
   "outputs": [],
   "source": [
    "X_train, X_test, y_train, y_test = train_test_split(X, y, test_size=0.4, random_state=0)"
   ]
  },
  {
   "cell_type": "code",
   "execution_count": 39,
   "metadata": {},
   "outputs": [
    {
     "data": {
      "text/plain": [
       "LinearRegression(copy_X=True, fit_intercept=True, n_jobs=1, normalize=False)"
      ]
     },
     "execution_count": 39,
     "metadata": {},
     "output_type": "execute_result"
    }
   ],
   "source": [
    "lr = LinearRegression()\n",
    "lr.fit(X_train, y_train)"
   ]
  },
  {
   "cell_type": "code",
   "execution_count": 40,
   "metadata": {
    "collapsed": true
   },
   "outputs": [],
   "source": [
    "# training error\n",
    "lr = LinearRegression()\n",
    "lr.fit(X, y)\n",
    "y_pred = lr.predict(X)\n",
    "training_error = (1 - np.sqrt(metrics.mean_squared_error(y, y_pred))) \n",
    "\n",
    "\n",
    "\n",
    "# testing error\n",
    "lr = LinearRegression()\n",
    "lr.fit(X_train, y_train)\n",
    "y_pred = lr.predict(X_test)\n",
    "testing_error = (1 - np.sqrt(metrics.mean_squared_error(y_test, y_pred)))"
   ]
  },
  {
   "cell_type": "code",
   "execution_count": 41,
   "metadata": {},
   "outputs": [
    {
     "data": {
      "text/plain": [
       "-0.23848227131711774"
      ]
     },
     "execution_count": 41,
     "metadata": {},
     "output_type": "execute_result"
    }
   ],
   "source": [
    "training_error"
   ]
  },
  {
   "cell_type": "code",
   "execution_count": 42,
   "metadata": {},
   "outputs": [
    {
     "data": {
      "text/plain": [
       "-0.33377683792368296"
      ]
     },
     "execution_count": 42,
     "metadata": {},
     "output_type": "execute_result"
    }
   ],
   "source": [
    "testing_error"
   ]
  },
  {
   "cell_type": "markdown",
   "metadata": {},
   "source": [
    "#### The first model had a variance problem, the final model has more bias and less variance."
   ]
  }
 ],
 "metadata": {
  "kernelspec": {
   "display_name": "Python 3",
   "language": "python",
   "name": "python3"
  },
  "language_info": {
   "codemirror_mode": {
    "name": "ipython",
    "version": 3
   },
   "file_extension": ".py",
   "mimetype": "text/x-python",
   "name": "python",
   "nbconvert_exporter": "python",
   "pygments_lexer": "ipython3",
   "version": "3.6.1"
  }
 },
 "nbformat": 4,
 "nbformat_minor": 2
}
